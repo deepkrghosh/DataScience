{
 "cells": [
  {
   "cell_type": "code",
   "execution_count": 9,
   "metadata": {},
   "outputs": [
    {
     "name": "stdout",
     "output_type": "stream",
     "text": [
      "Enter how many numbers you want to display CUBE for\n",
      "10\n",
      "Input value is 10\n",
      "[1, 2, 3, 4, 5, 6, 7, 8, 9, 10]\n",
      "[1, 8, 27, 64, 125, 216, 343, 512, 729, 1000]\n"
     ]
    }
   ],
   "source": [
    "print(\"Enter how many numbers you want to display CUBE for\")\n",
    "INPUT = input()\n",
    "print(\"Input value is \"+ INPUT)\n",
    "\n",
    "NormalNumber = []\n",
    "CubeNumber = []\n",
    "\n",
    "def Cube(n):\n",
    "    CubeNumber.append(n**3)\n",
    "\n",
    "for x in range(1,int(INPUT)+1):\n",
    "    NormalNumber.append(x)\n",
    "    Cube(x)\n",
    "\n",
    "    \n",
    "print(NormalNumber)  \n",
    "print(CubeNumber)"
   ]
  },
  {
   "cell_type": "code",
   "execution_count": null,
   "metadata": {},
   "outputs": [],
   "source": []
  }
 ],
 "metadata": {
  "kernelspec": {
   "display_name": "Python 3",
   "language": "python",
   "name": "python3"
  },
  "language_info": {
   "codemirror_mode": {
    "name": "ipython",
    "version": 3
   },
   "file_extension": ".py",
   "mimetype": "text/x-python",
   "name": "python",
   "nbconvert_exporter": "python",
   "pygments_lexer": "ipython3",
   "version": "3.7.3"
  }
 },
 "nbformat": 4,
 "nbformat_minor": 2
}
