{
 "cells": [
  {
   "cell_type": "code",
   "execution_count": 21,
   "metadata": {},
   "outputs": [
    {
     "name": "stdout",
     "output_type": "stream",
     "text": [
      "-0.30061755113473987\n",
      "-1.0292197232635527\n",
      "0.4024124626387731\n",
      "1.1436573785009891\n",
      "1.329349080160757\n",
      "0.42035079486106464\n",
      "-0.38067384902977086\n",
      "0.6015236660003833\n",
      "1.7198385729638392\n",
      "-0.8448504049751306\n",
      "60.0 %\n"
     ]
    }
   ],
   "source": [
    "import numpy as np\n",
    "from numpy.random import randn\n",
    "N = 10  # Count of Random numbers being generated.\n",
    "counter = 0\n",
    "for i in randn(N):\n",
    "    print(i)\n",
    "    if(i >= -1 and i <=1):  # Checking if the generated number falls between -1 & +1\n",
    "        counter += 1\n",
    "answer = 100 *(counter / N)  # Calculating the % of numbers falls between -1 & +1 amongst the Random numbers generated\n",
    "print(answer, \"%\")"
   ]
  },
  {
   "cell_type": "code",
   "execution_count": null,
   "metadata": {},
   "outputs": [],
   "source": []
  }
 ],
 "metadata": {
  "kernelspec": {
   "display_name": "Python 3",
   "language": "python",
   "name": "python3"
  },
  "language_info": {
   "codemirror_mode": {
    "name": "ipython",
    "version": 3
   },
   "file_extension": ".py",
   "mimetype": "text/x-python",
   "name": "python",
   "nbconvert_exporter": "python",
   "pygments_lexer": "ipython3",
   "version": "3.7.3"
  }
 },
 "nbformat": 4,
 "nbformat_minor": 2
}
