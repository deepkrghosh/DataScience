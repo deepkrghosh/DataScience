{
 "cells": [
  {
   "cell_type": "code",
   "execution_count": 13,
   "metadata": {
    "scrolled": true
   },
   "outputs": [
    {
     "data": {
      "text/plain": [
       "Index(['Country', 'Year', 'Status', 'Lifeexpectancy', 'AdultMortality',\n",
       "       'infantdeaths', 'Alcohol', 'percentageexpenditure', 'HepatitisB',\n",
       "       'Measles', 'BMI', 'under-fivedeaths', 'Polio', 'Totalexpenditure',\n",
       "       'Diphtheria', 'HIV/AIDS', 'GDP', 'Population', 'thinness1-19years',\n",
       "       'thinness5-9years', 'Incomecompositionofresources', 'Schooling'],\n",
       "      dtype='object')"
      ]
     },
     "execution_count": 13,
     "metadata": {},
     "output_type": "execute_result"
    }
   ],
   "source": [
    "import numpy as np\n",
    "import pandas as pd\n",
    "import seaborn as sns\n",
    "import matplotlib.pyplot as plt\n",
    "import os\n",
    "# os.getcwd()\n",
    "\n",
    "who_data = pd.read_csv(\"WHO_data.csv\")\n",
    "who_data.columns\n",
    "\n"
   ]
  },
  {
   "cell_type": "code",
   "execution_count": 18,
   "metadata": {},
   "outputs": [
    {
     "name": "stdout",
     "output_type": "stream",
     "text": [
      "<class 'pandas.core.frame.DataFrame'>\n",
      "RangeIndex: 2938 entries, 0 to 2937\n",
      "Data columns (total 22 columns):\n",
      "Country                         2938 non-null object\n",
      "Year                            2938 non-null category\n",
      "Status                          2938 non-null category\n",
      "Lifeexpectancy                  2928 non-null float64\n",
      "AdultMortality                  2928 non-null float64\n",
      "infantdeaths                    2938 non-null int64\n",
      "Alcohol                         2744 non-null float64\n",
      "percentageexpenditure           2938 non-null float64\n",
      "HepatitisB                      2385 non-null float64\n",
      "Measles                         2938 non-null int64\n",
      "BMI                             2904 non-null float64\n",
      "under-fivedeaths                2938 non-null int64\n",
      "Polio                           2919 non-null float64\n",
      "Totalexpenditure                2712 non-null float64\n",
      "Diphtheria                      2919 non-null float64\n",
      "HIV-AIDS                        2938 non-null float64\n",
      "GDP                             2490 non-null float64\n",
      "Population                      2286 non-null float64\n",
      "thinness1-19years               2904 non-null float64\n",
      "thinness5-9years                2904 non-null float64\n",
      "Incomecompositionofresources    2771 non-null float64\n",
      "Schooling                       2775 non-null float64\n",
      "dtypes: category(2), float64(16), int64(3), object(1)\n",
      "memory usage: 465.7+ KB\n"
     ]
    },
    {
     "data": {
      "text/html": [
       "<div>\n",
       "<style scoped>\n",
       "    .dataframe tbody tr th:only-of-type {\n",
       "        vertical-align: middle;\n",
       "    }\n",
       "\n",
       "    .dataframe tbody tr th {\n",
       "        vertical-align: top;\n",
       "    }\n",
       "\n",
       "    .dataframe thead th {\n",
       "        text-align: right;\n",
       "    }\n",
       "</style>\n",
       "<table border=\"1\" class=\"dataframe\">\n",
       "  <thead>\n",
       "    <tr style=\"text-align: right;\">\n",
       "      <th></th>\n",
       "      <th>Lifeexpectancy</th>\n",
       "      <th>AdultMortality</th>\n",
       "      <th>infantdeaths</th>\n",
       "      <th>Alcohol</th>\n",
       "      <th>percentageexpenditure</th>\n",
       "      <th>HepatitisB</th>\n",
       "      <th>Measles</th>\n",
       "      <th>BMI</th>\n",
       "      <th>under-fivedeaths</th>\n",
       "      <th>Polio</th>\n",
       "      <th>Totalexpenditure</th>\n",
       "      <th>Diphtheria</th>\n",
       "      <th>HIV-AIDS</th>\n",
       "      <th>GDP</th>\n",
       "      <th>Population</th>\n",
       "      <th>thinness1-19years</th>\n",
       "      <th>thinness5-9years</th>\n",
       "      <th>Incomecompositionofresources</th>\n",
       "      <th>Schooling</th>\n",
       "    </tr>\n",
       "  </thead>\n",
       "  <tbody>\n",
       "    <tr>\n",
       "      <th>count</th>\n",
       "      <td>2928.000000</td>\n",
       "      <td>2928.000000</td>\n",
       "      <td>2938.000000</td>\n",
       "      <td>2744.000000</td>\n",
       "      <td>2938.000000</td>\n",
       "      <td>2385.000000</td>\n",
       "      <td>2938.000000</td>\n",
       "      <td>2904.000000</td>\n",
       "      <td>2938.000000</td>\n",
       "      <td>2919.000000</td>\n",
       "      <td>2712.00000</td>\n",
       "      <td>2919.000000</td>\n",
       "      <td>2938.000000</td>\n",
       "      <td>2490.000000</td>\n",
       "      <td>2.286000e+03</td>\n",
       "      <td>2904.000000</td>\n",
       "      <td>2904.000000</td>\n",
       "      <td>2771.000000</td>\n",
       "      <td>2775.000000</td>\n",
       "    </tr>\n",
       "    <tr>\n",
       "      <th>mean</th>\n",
       "      <td>69.224932</td>\n",
       "      <td>164.796448</td>\n",
       "      <td>30.303948</td>\n",
       "      <td>4.602861</td>\n",
       "      <td>738.251295</td>\n",
       "      <td>80.940461</td>\n",
       "      <td>2419.592240</td>\n",
       "      <td>38.321247</td>\n",
       "      <td>42.035739</td>\n",
       "      <td>82.550188</td>\n",
       "      <td>5.93819</td>\n",
       "      <td>82.324084</td>\n",
       "      <td>1.742103</td>\n",
       "      <td>7483.158469</td>\n",
       "      <td>1.275338e+07</td>\n",
       "      <td>4.839704</td>\n",
       "      <td>4.870317</td>\n",
       "      <td>0.627551</td>\n",
       "      <td>11.992793</td>\n",
       "    </tr>\n",
       "    <tr>\n",
       "      <th>std</th>\n",
       "      <td>9.523867</td>\n",
       "      <td>124.292079</td>\n",
       "      <td>117.926501</td>\n",
       "      <td>4.052413</td>\n",
       "      <td>1987.914858</td>\n",
       "      <td>25.070016</td>\n",
       "      <td>11467.272489</td>\n",
       "      <td>20.044034</td>\n",
       "      <td>160.445548</td>\n",
       "      <td>23.428046</td>\n",
       "      <td>2.49832</td>\n",
       "      <td>23.716912</td>\n",
       "      <td>5.077785</td>\n",
       "      <td>14270.169342</td>\n",
       "      <td>6.101210e+07</td>\n",
       "      <td>4.420195</td>\n",
       "      <td>4.508882</td>\n",
       "      <td>0.210904</td>\n",
       "      <td>3.358920</td>\n",
       "    </tr>\n",
       "    <tr>\n",
       "      <th>min</th>\n",
       "      <td>36.300000</td>\n",
       "      <td>1.000000</td>\n",
       "      <td>0.000000</td>\n",
       "      <td>0.010000</td>\n",
       "      <td>0.000000</td>\n",
       "      <td>1.000000</td>\n",
       "      <td>0.000000</td>\n",
       "      <td>1.000000</td>\n",
       "      <td>0.000000</td>\n",
       "      <td>3.000000</td>\n",
       "      <td>0.37000</td>\n",
       "      <td>2.000000</td>\n",
       "      <td>0.100000</td>\n",
       "      <td>1.681350</td>\n",
       "      <td>3.400000e+01</td>\n",
       "      <td>0.100000</td>\n",
       "      <td>0.100000</td>\n",
       "      <td>0.000000</td>\n",
       "      <td>0.000000</td>\n",
       "    </tr>\n",
       "    <tr>\n",
       "      <th>25%</th>\n",
       "      <td>63.100000</td>\n",
       "      <td>74.000000</td>\n",
       "      <td>0.000000</td>\n",
       "      <td>0.877500</td>\n",
       "      <td>4.685343</td>\n",
       "      <td>77.000000</td>\n",
       "      <td>0.000000</td>\n",
       "      <td>19.300000</td>\n",
       "      <td>0.000000</td>\n",
       "      <td>78.000000</td>\n",
       "      <td>4.26000</td>\n",
       "      <td>78.000000</td>\n",
       "      <td>0.100000</td>\n",
       "      <td>463.935626</td>\n",
       "      <td>1.957932e+05</td>\n",
       "      <td>1.600000</td>\n",
       "      <td>1.500000</td>\n",
       "      <td>0.493000</td>\n",
       "      <td>10.100000</td>\n",
       "    </tr>\n",
       "    <tr>\n",
       "      <th>50%</th>\n",
       "      <td>72.100000</td>\n",
       "      <td>144.000000</td>\n",
       "      <td>3.000000</td>\n",
       "      <td>3.755000</td>\n",
       "      <td>64.912906</td>\n",
       "      <td>92.000000</td>\n",
       "      <td>17.000000</td>\n",
       "      <td>43.500000</td>\n",
       "      <td>4.000000</td>\n",
       "      <td>93.000000</td>\n",
       "      <td>5.75500</td>\n",
       "      <td>93.000000</td>\n",
       "      <td>0.100000</td>\n",
       "      <td>1766.947595</td>\n",
       "      <td>1.386542e+06</td>\n",
       "      <td>3.300000</td>\n",
       "      <td>3.300000</td>\n",
       "      <td>0.677000</td>\n",
       "      <td>12.300000</td>\n",
       "    </tr>\n",
       "    <tr>\n",
       "      <th>75%</th>\n",
       "      <td>75.700000</td>\n",
       "      <td>228.000000</td>\n",
       "      <td>22.000000</td>\n",
       "      <td>7.702500</td>\n",
       "      <td>441.534144</td>\n",
       "      <td>97.000000</td>\n",
       "      <td>360.250000</td>\n",
       "      <td>56.200000</td>\n",
       "      <td>28.000000</td>\n",
       "      <td>97.000000</td>\n",
       "      <td>7.49250</td>\n",
       "      <td>97.000000</td>\n",
       "      <td>0.800000</td>\n",
       "      <td>5910.806335</td>\n",
       "      <td>7.420359e+06</td>\n",
       "      <td>7.200000</td>\n",
       "      <td>7.200000</td>\n",
       "      <td>0.779000</td>\n",
       "      <td>14.300000</td>\n",
       "    </tr>\n",
       "    <tr>\n",
       "      <th>max</th>\n",
       "      <td>89.000000</td>\n",
       "      <td>723.000000</td>\n",
       "      <td>1800.000000</td>\n",
       "      <td>17.870000</td>\n",
       "      <td>19479.911610</td>\n",
       "      <td>99.000000</td>\n",
       "      <td>212183.000000</td>\n",
       "      <td>87.300000</td>\n",
       "      <td>2500.000000</td>\n",
       "      <td>99.000000</td>\n",
       "      <td>17.60000</td>\n",
       "      <td>99.000000</td>\n",
       "      <td>50.600000</td>\n",
       "      <td>119172.741800</td>\n",
       "      <td>1.293859e+09</td>\n",
       "      <td>27.700000</td>\n",
       "      <td>28.600000</td>\n",
       "      <td>0.948000</td>\n",
       "      <td>20.700000</td>\n",
       "    </tr>\n",
       "  </tbody>\n",
       "</table>\n",
       "</div>"
      ],
      "text/plain": [
       "       Lifeexpectancy  AdultMortality  infantdeaths      Alcohol  \\\n",
       "count     2928.000000     2928.000000   2938.000000  2744.000000   \n",
       "mean        69.224932      164.796448     30.303948     4.602861   \n",
       "std          9.523867      124.292079    117.926501     4.052413   \n",
       "min         36.300000        1.000000      0.000000     0.010000   \n",
       "25%         63.100000       74.000000      0.000000     0.877500   \n",
       "50%         72.100000      144.000000      3.000000     3.755000   \n",
       "75%         75.700000      228.000000     22.000000     7.702500   \n",
       "max         89.000000      723.000000   1800.000000    17.870000   \n",
       "\n",
       "       percentageexpenditure   HepatitisB        Measles          BMI  \\\n",
       "count            2938.000000  2385.000000    2938.000000  2904.000000   \n",
       "mean              738.251295    80.940461    2419.592240    38.321247   \n",
       "std              1987.914858    25.070016   11467.272489    20.044034   \n",
       "min                 0.000000     1.000000       0.000000     1.000000   \n",
       "25%                 4.685343    77.000000       0.000000    19.300000   \n",
       "50%                64.912906    92.000000      17.000000    43.500000   \n",
       "75%               441.534144    97.000000     360.250000    56.200000   \n",
       "max             19479.911610    99.000000  212183.000000    87.300000   \n",
       "\n",
       "       under-fivedeaths        Polio  Totalexpenditure   Diphtheria  \\\n",
       "count       2938.000000  2919.000000        2712.00000  2919.000000   \n",
       "mean          42.035739    82.550188           5.93819    82.324084   \n",
       "std          160.445548    23.428046           2.49832    23.716912   \n",
       "min            0.000000     3.000000           0.37000     2.000000   \n",
       "25%            0.000000    78.000000           4.26000    78.000000   \n",
       "50%            4.000000    93.000000           5.75500    93.000000   \n",
       "75%           28.000000    97.000000           7.49250    97.000000   \n",
       "max         2500.000000    99.000000          17.60000    99.000000   \n",
       "\n",
       "          HIV-AIDS            GDP    Population  thinness1-19years  \\\n",
       "count  2938.000000    2490.000000  2.286000e+03        2904.000000   \n",
       "mean      1.742103    7483.158469  1.275338e+07           4.839704   \n",
       "std       5.077785   14270.169342  6.101210e+07           4.420195   \n",
       "min       0.100000       1.681350  3.400000e+01           0.100000   \n",
       "25%       0.100000     463.935626  1.957932e+05           1.600000   \n",
       "50%       0.100000    1766.947595  1.386542e+06           3.300000   \n",
       "75%       0.800000    5910.806335  7.420359e+06           7.200000   \n",
       "max      50.600000  119172.741800  1.293859e+09          27.700000   \n",
       "\n",
       "       thinness5-9years  Incomecompositionofresources    Schooling  \n",
       "count       2904.000000                   2771.000000  2775.000000  \n",
       "mean           4.870317                      0.627551    11.992793  \n",
       "std            4.508882                      0.210904     3.358920  \n",
       "min            0.100000                      0.000000     0.000000  \n",
       "25%            1.500000                      0.493000    10.100000  \n",
       "50%            3.300000                      0.677000    12.300000  \n",
       "75%            7.200000                      0.779000    14.300000  \n",
       "max           28.600000                      0.948000    20.700000  "
      ]
     },
     "execution_count": 18,
     "metadata": {},
     "output_type": "execute_result"
    }
   ],
   "source": [
    "# Changing the Column names HIV/AIDS to HIV-AIDS\n",
    "who_data.columns = ['Country', 'Year', 'Status', 'Lifeexpectancy', 'AdultMortality', \n",
    "       'infantdeaths', 'Alcohol', 'percentageexpenditure', 'HepatitisB', \n",
    "       'Measles', 'BMI', 'under-fivedeaths', 'Polio', 'Totalexpenditure', \n",
    "       'Diphtheria', 'HIV-AIDS', 'GDP', 'Population', 'thinness1-19years', \n",
    "       'thinness5-9years', 'Incomecompositionofresources', 'Schooling']\n",
    "# who_data.columns\n",
    "# Making YEAR as Category\n",
    "who_data.Year = who_data.Year.astype(\"category\")\n",
    "who_data.Status = who_data.Status.astype(\"category\")\n",
    "who_data.info()\n",
    "who_data.describe()"
   ]
  },
  {
   "cell_type": "code",
   "execution_count": 22,
   "metadata": {},
   "outputs": [
    {
     "data": {
      "text/html": [
       "<div>\n",
       "<style scoped>\n",
       "    .dataframe tbody tr th:only-of-type {\n",
       "        vertical-align: middle;\n",
       "    }\n",
       "\n",
       "    .dataframe tbody tr th {\n",
       "        vertical-align: top;\n",
       "    }\n",
       "\n",
       "    .dataframe thead th {\n",
       "        text-align: right;\n",
       "    }\n",
       "</style>\n",
       "<table border=\"1\" class=\"dataframe\">\n",
       "  <thead>\n",
       "    <tr style=\"text-align: right;\">\n",
       "      <th></th>\n",
       "      <th>Lifeexpectancy</th>\n",
       "      <th>Year</th>\n",
       "    </tr>\n",
       "  </thead>\n",
       "  <tbody>\n",
       "    <tr>\n",
       "      <th>0</th>\n",
       "      <td>65.0</td>\n",
       "      <td>2015</td>\n",
       "    </tr>\n",
       "    <tr>\n",
       "      <th>1</th>\n",
       "      <td>59.9</td>\n",
       "      <td>2014</td>\n",
       "    </tr>\n",
       "    <tr>\n",
       "      <th>2</th>\n",
       "      <td>59.9</td>\n",
       "      <td>2013</td>\n",
       "    </tr>\n",
       "    <tr>\n",
       "      <th>3</th>\n",
       "      <td>59.5</td>\n",
       "      <td>2012</td>\n",
       "    </tr>\n",
       "    <tr>\n",
       "      <th>4</th>\n",
       "      <td>59.2</td>\n",
       "      <td>2011</td>\n",
       "    </tr>\n",
       "    <tr>\n",
       "      <th>5</th>\n",
       "      <td>58.8</td>\n",
       "      <td>2010</td>\n",
       "    </tr>\n",
       "    <tr>\n",
       "      <th>6</th>\n",
       "      <td>58.6</td>\n",
       "      <td>2009</td>\n",
       "    </tr>\n",
       "    <tr>\n",
       "      <th>7</th>\n",
       "      <td>58.1</td>\n",
       "      <td>2008</td>\n",
       "    </tr>\n",
       "    <tr>\n",
       "      <th>8</th>\n",
       "      <td>57.5</td>\n",
       "      <td>2007</td>\n",
       "    </tr>\n",
       "    <tr>\n",
       "      <th>9</th>\n",
       "      <td>57.3</td>\n",
       "      <td>2006</td>\n",
       "    </tr>\n",
       "    <tr>\n",
       "      <th>10</th>\n",
       "      <td>57.3</td>\n",
       "      <td>2005</td>\n",
       "    </tr>\n",
       "    <tr>\n",
       "      <th>11</th>\n",
       "      <td>57.0</td>\n",
       "      <td>2004</td>\n",
       "    </tr>\n",
       "    <tr>\n",
       "      <th>12</th>\n",
       "      <td>56.7</td>\n",
       "      <td>2003</td>\n",
       "    </tr>\n",
       "    <tr>\n",
       "      <th>13</th>\n",
       "      <td>56.2</td>\n",
       "      <td>2002</td>\n",
       "    </tr>\n",
       "    <tr>\n",
       "      <th>14</th>\n",
       "      <td>55.3</td>\n",
       "      <td>2001</td>\n",
       "    </tr>\n",
       "    <tr>\n",
       "      <th>15</th>\n",
       "      <td>54.8</td>\n",
       "      <td>2000</td>\n",
       "    </tr>\n",
       "  </tbody>\n",
       "</table>\n",
       "</div>"
      ],
      "text/plain": [
       "    Lifeexpectancy  Year\n",
       "0             65.0  2015\n",
       "1             59.9  2014\n",
       "2             59.9  2013\n",
       "3             59.5  2012\n",
       "4             59.2  2011\n",
       "5             58.8  2010\n",
       "6             58.6  2009\n",
       "7             58.1  2008\n",
       "8             57.5  2007\n",
       "9             57.3  2006\n",
       "10            57.3  2005\n",
       "11            57.0  2004\n",
       "12            56.7  2003\n",
       "13            56.2  2002\n",
       "14            55.3  2001\n",
       "15            54.8  2000"
      ]
     },
     "execution_count": 22,
     "metadata": {},
     "output_type": "execute_result"
    }
   ],
   "source": [
    "# Derive Countrywise (Afganistan) Life Expectatncy for 2005-2015\n",
    "# Afghanistan_Lifeexpectancy = who_data.Country=='Afghanistan'\n",
    "who_data[who_data.Country=='Afghanistan'][['Lifeexpectancy','Year']]"
   ]
  },
  {
   "cell_type": "code",
   "execution_count": 27,
   "metadata": {},
   "outputs": [
    {
     "data": {
      "image/png": "[encoded data removed]",
      "text/plain": [
       "<Figure size 432x288 with 1 Axes>"
      ]
     },
     "metadata": {
      "needs_background": "light"
     },
     "output_type": "display_data"
    }
   ],
   "source": [
    "%matplotlib inline\n",
    "import warnings \n",
    "warnings.filterwarnings('ignore')\n",
    "\n",
    "# Now plot Histogram for all country's Yearwise Life Expectancy\n",
    "histogram_1 = plt.hist(who_data.Lifeexpectancy, bins=30)\n",
    "\n",
    "# Plot Afganistan's Yearwise Life Expectancy\n",
    "AfganistanYearwiseLifeExpectancy = plt.hist(who_data.Lifeexpectancy, bins=20)\n",
    "\n"
   ]
  },
  {
   "cell_type": "code",
   "execution_count": 10,
   "metadata": {},
   "outputs": [
    {
     "data": {
      "image/png": "[encoded data removed]",
      "text/plain": [
       "<Figure size 432x432 with 3 Axes>"
      ]
     },
     "metadata": {
      "needs_background": "light"
     },
     "output_type": "display_data"
    }
   ],
   "source": [
    "# Scattered Plot / # JointPlot  Year v/s Life expectancy for all countries\n",
    "jointplot_1 = sns.jointplot(data=who_data, x='Year', y='Lifeexpectancy', )"
   ]
  },
  {
   "cell_type": "code",
   "execution_count": 34,
   "metadata": {},
   "outputs": [
    {
     "data": {
      "image/png": "[encoded data removed]",
      "text/plain": [
       "<Figure size 432x288 with 1 Axes>"
      ]
     },
     "metadata": {},
     "output_type": "display_data"
    }
   ],
   "source": [
    "# DistPlot - Life Expectancy data for all countries\n",
    "sns.set_style(\"darkgrid\")\n",
    "distPlot_1 = sns.distplot(who_data.Lifeexpectancy, bins=15)"
   ]
  },
  {
   "cell_type": "code",
   "execution_count": 41,
   "metadata": {},
   "outputs": [
    {
     "data": {
      "image/png": "[encoded data removed]",
      "text/plain": [
       "<Figure size 432x432 with 3 Axes>"
      ]
     },
     "metadata": {},
     "output_type": "display_data"
    }
   ],
   "source": [
    "# Scattered Plot/Joint plot for Afganistan's Life Expectancy over the years 2000 -2015\n",
    "Afghanistan_Lifeexpectancy = who_data[who_data.Country=='Afghanistan'][['Lifeexpectancy']]\n",
    "Afghanistan_Year = who_data[who_data.Country=='Afghanistan'][['Year']]\n",
    "# who_data[Afghanistan_Lifeexpectancy][['Lifeexpectancy','Year']]\n",
    "# who_data[who_data.Country=='Afghanistan'][['Lifeexpectancy']]\n",
    "jointplot_2 = sns.jointplot(data=who_data, x=Afghanistan_Year, y=Afghanistan_Lifeexpectancy)"
   ]
  },
  {
   "cell_type": "code",
   "execution_count": 28,
   "metadata": {},
   "outputs": [
    {
     "data": {
      "image/png": "[encoded data removed]",
      "text/plain": [
       "<Figure size 432x288 with 1 Axes>"
      ]
     },
     "metadata": {
      "needs_background": "light"
     },
     "output_type": "display_data"
    }
   ],
   "source": [
    "# Plot Afganistan's Yearwise Life Expectancy\n",
    "AfganistanYearwiseLifeExpectancy = plt.hist(who_data[who_data.Country=='Afghanistan'][['Lifeexpectancy']], bins=5)"
   ]
  },
  {
   "cell_type": "code",
   "execution_count": 44,
   "metadata": {},
   "outputs": [
    {
     "data": {
      "image/png": "[encoded data removed]",
      "text/plain": [
       "<Figure size 432x288 with 1 Axes>"
      ]
     },
     "metadata": {},
     "output_type": "display_data"
    }
   ],
   "source": [
    "# DistPlot - Life Expectancy data for Afganistan over the years\n",
    "distPlot_1 = sns.distplot(Afghanistan_Lifeexpectancy, bins=30)"
   ]
  },
  {
   "cell_type": "code",
   "execution_count": 46,
   "metadata": {},
   "outputs": [
    {
     "data": {
      "image/png": "[encoded data removed]",
      "text/plain": [
       "<Figure size 432x288 with 1 Axes>"
      ]
     },
     "metadata": {},
     "output_type": "display_data"
    }
   ],
   "source": [
    "# Scattered Plot \n",
    "\n",
    "scatteredPlot = plt.scatter(Afghanistan_Year, Afghanistan_Lifeexpectancy )"
   ]
  },
  {
   "cell_type": "code",
   "execution_count": null,
   "metadata": {},
   "outputs": [],
   "source": []
  }
 ],
 "metadata": {
  "kernelspec": {
   "display_name": "Python 3",
   "language": "python",
   "name": "python3"
  },
  "language_info": {
   "codemirror_mode": {
    "name": "ipython",
    "version": 3
   },
   "file_extension": ".py",
   "mimetype": "text/x-python",
   "name": "python",
   "nbconvert_exporter": "python",
   "pygments_lexer": "ipython3",
   "version": "3.7.3"
  }
 },
 "nbformat": 4,
 "nbformat_minor": 2
}
